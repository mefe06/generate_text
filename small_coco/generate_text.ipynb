{
 "cells": [
  {
   "cell_type": "code",
   "execution_count": 3,
   "metadata": {},
   "outputs": [],
   "source": [
    "import json\n",
    "f = open(\"C:/Users/efeml/Downloads/tiny-coco-master/tiny-coco-master/small_coco/instances_train2017_small.json\")\n",
    "labels = json.load(f)"
   ]
  },
  {
   "cell_type": "code",
   "execution_count": 8,
   "metadata": {},
   "outputs": [],
   "source": [
    "custom_dataset_ids={4: 0, \n",
    "13: 5, \n",
    "1: 6 ,\n",
    "14: 7 ,\n",
    "8: 8,\n",
    "5: 10,\n",
    "2: 12,\n",
    "15: 14,\n",
    "19: 18,\n",
    "16: 19,\n",
    "26: 23,\n",
    "17: 26,\n",
    "3: 31,\n",
    "0: 32,\n",
    "18: 34,\n",
    "28: 39,\n",
    "9: 40,\n",
    "11: 41, #stop sign\n",
    "7: 44,\n",
    "25: 45}\n",
    "for i in labels['images']:\n",
    "    f_name = i['file_name']\n",
    "    f_id = i['id']\n",
    "    height=i['height']\n",
    "    width=i['width']\n",
    "    anno_list=[]\n",
    "    f = open('{}.txt'.format(f_name), 'w')\n",
    "    for a in labels['annotations']:\n",
    "        if a['image_id'] == f_id and (a['category_id'] in custom_dataset_ids.keys()):\n",
    "            bbox = a['bbox']\n",
    "            ### normalize bbox\n",
    "            normalized_bbox = [bbox[0]/width,bbox[1]/height,bbox[2]/width,bbox[3]/height]\n",
    "            #temp = [custom_dataset_ids[a['category_id']], normalized_bbox]\n",
    "            f.write(\"{} {} {} {} {}\\n\".format(custom_dataset_ids[a['category_id']],normalized_bbox[0],normalized_bbox[1],normalized_bbox[2],normalized_bbox[3]))\n",
    "            #f.write(\"{} {} {} {} {}\\n\".format(a['category_id'],normalized_bbox[0],normalized_bbox[1],normalized_bbox[2],normalized_bbox[3]))\n",
    "\n"
   ]
  }
 ],
 "metadata": {
  "kernelspec": {
   "display_name": "base",
   "language": "python",
   "name": "python3"
  },
  "language_info": {
   "codemirror_mode": {
    "name": "ipython",
    "version": 3
   },
   "file_extension": ".py",
   "mimetype": "text/x-python",
   "name": "python",
   "nbconvert_exporter": "python",
   "pygments_lexer": "ipython3",
   "version": "3.9.12"
  },
  "orig_nbformat": 4
 },
 "nbformat": 4,
 "nbformat_minor": 2
}
